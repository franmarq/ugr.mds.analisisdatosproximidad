{
  "nbformat": 4,
  "nbformat_minor": 0,
  "metadata": {
    "colab": {
      "provenance": [],
      "authorship_tag": "ABX9TyONL3jWUzBJ4O0axlkk70NH",
      "include_colab_link": true
    },
    "kernelspec": {
      "name": "python3",
      "display_name": "Python 3"
    },
    "language_info": {
      "name": "python"
    }
  },
  "cells": [
    {
      "cell_type": "markdown",
      "metadata": {
        "id": "view-in-github",
        "colab_type": "text"
      },
      "source": [
        "<a href=\"https://colab.research.google.com/github/franmarq/ugr.mds.analisisdatosproximidad/blob/main/MDS_using_R_in_Google_Colab.ipynb\" target=\"_parent\"><img src=\"https://colab.research.google.com/assets/colab-badge.svg\" alt=\"Open In Colab\"/></a>"
      ]
    },
    {
      "cell_type": "code",
      "metadata": {
        "id": "VQz9WzqtDWMp"
      },
      "source": [
        "# Start rmagic by executing this in a cell: %load_ext rpy2.ipython\n",
        "%load_ext rpy2.ipython"
      ],
      "execution_count": 2,
      "outputs": []
    },
    {
      "cell_type": "code",
      "metadata": {
        "id": "MW98hD4oDjhw",
        "colab": {
          "base_uri": "https://localhost:8080/"
        },
        "outputId": "cfd9339c-b275-4a3b-8f09-98b38c6ca4cf"
      },
      "source": [
        "# Use %%R to execute cell magic. Use this if you want all syntax in a cell to be executed in R.\n",
        "# Note that this must be placed at the beginning of the cell.\n",
        "%%R\n",
        "# Importar los datos\n",
        "distancias <- matrix(c(0, 569, 667, 530, 141, 140, 357, 396, 570, 190,\n",
        "  569, 0, 1212, 1043, 617, 446, 325, 423, 787, 648,\n",
        "  667, 1212, 0, 201, 596, 768, 923, 882, 714, 714,\n",
        "  530, 1043, 201, 0, 431, 608, 740, 690, 516, 622,\n",
        "  141, 617, 596, 431, 0, 177, 340, 337, 436, 320,\n",
        "  140, 446, 768, 608, 177, 0, 218, 272, 519, 302,\n",
        "  357, 325, 923, 740, 340, 218, 0, 114, 472, 514,\n",
        "  396, 423, 882, 690, 337, 272, 114, 0, 364, 573,\n",
        "  569, 787, 714, 516, 436, 519, 472, 364, 0, 755,\n",
        "  190, 648, 714, 622, 320, 302, 514, 573, 755, 0\n",
        "), nrow = 10, ncol = 10, byrow = TRUE)\n",
        "\n",
        "print(distancias)\n",
        "\n",
        "# Centrar las distancias\n",
        "distancias_centradas <- distancias - rowMeans(distancias)\n",
        "distancias_centradas\n",
        "\n",
        "# Calcular los vectores propios de la matriz de productos escalares centrada\n",
        "eigen <- eigen(distancias_centradas)\n",
        "\n",
        "\n",
        "# Obtener los vectores propios normalizados\n",
        "eigen_vectores_normalizados <- eigen$vectors / sqrt(eigen$values)\n",
        "\n",
        "# Vectores propios normalizados\n",
        "eigen_vectores_normalizados"
      ],
      "execution_count": 20,
      "outputs": [
        {
          "output_type": "stream",
          "name": "stdout",
          "text": [
            "      [,1] [,2] [,3] [,4] [,5] [,6] [,7] [,8] [,9] [,10]\n",
            " [1,]    0  569  667  530  141  140  357  396  570   190\n",
            " [2,]  569    0 1212 1043  617  446  325  423  787   648\n",
            " [3,]  667 1212    0  201  596  768  923  882  714   714\n",
            " [4,]  530 1043  201    0  431  608  740  690  516   622\n",
            " [5,]  141  617  596  431    0  177  340  337  436   320\n",
            " [6,]  140  446  768  608  177    0  218  272  519   302\n",
            " [7,]  357  325  923  740  340  218    0  114  472   514\n",
            " [8,]  396  423  882  690  337  272  114    0  364   573\n",
            " [9,]  569  787  714  516  436  519  472  364    0   755\n",
            "[10,]  190  648  714  622  320  302  514  573  755     0\n",
            "      [,1] [,2] [,3] [,4] [,5] [,6] [,7] [,8] [,9] [,10]\n",
            " [1,]  NaN  NaN  NaN  NaN  NaN  NaN  NaN  NaN  NaN   NaN\n",
            " [2,]  NaN  NaN  NaN  NaN  NaN  NaN  NaN  NaN  NaN   NaN\n",
            " [3,]  NaN  NaN  NaN  NaN  NaN  NaN  NaN  NaN  NaN   NaN\n",
            " [4,]  NaN  NaN  NaN  NaN  NaN  NaN  NaN  NaN  NaN   NaN\n",
            " [5,]  NaN  NaN  NaN  NaN  NaN  NaN  NaN  NaN  NaN   NaN\n",
            " [6,]  NaN  NaN  NaN  NaN  NaN  NaN  NaN  NaN  NaN   NaN\n",
            " [7,]  NaN  NaN  NaN  NaN  NaN  NaN  NaN  NaN  NaN   NaN\n",
            " [8,]  NaN  NaN  NaN  NaN  NaN  NaN  NaN  NaN  NaN   NaN\n",
            " [9,]  NaN  NaN  NaN  NaN  NaN  NaN  NaN  NaN  NaN   NaN\n",
            "[10,]  NaN  NaN  NaN  NaN  NaN  NaN  NaN  NaN  NaN   NaN\n"
          ]
        }
      ]
    },
    {
      "cell_type": "code",
      "metadata": {
        "id": "2EKp10OHDw5r",
        "colab": {
          "base_uri": "https://localhost:8080/",
          "height": 977
        },
        "outputId": "3bb1cec7-2d1c-4fb2-f104-b44b6212a6b5"
      },
      "source": [
        "%%R\n",
        "# Obtener los autovalores\n",
        "autovalores <- eigen$values\n",
        "\n",
        "# Calcular la proporción de varianza explicada por cada autovalor\n",
        "proporciones_varianza_explicada <- autovalores / sum(autovalores)\n",
        "\n",
        "# Graficar la proporción de varianza explicada por cada autovalor\n",
        "plot(proporciones_varianza_explicada, type = \"b\", xlab = \"Número de dimensiones\", ylab = \"Proporción de varianza explicada\")\n",
        "\n",
        "# Obtener los vectores propios\n",
        "vectores_propios <- eigen$vectors\n",
        "\n",
        "# Seleccionar los dos primeros vectores propios\n",
        "vectores_propios_2d <- vectores_propios[, 1:2]\n",
        "\n",
        "# Representar los puntos en dos dimensiones\n",
        "plot(vectores_propios_2d, xlab = \"Dimensión 1\", ylab = \"Dimensión 2\")"
      ],
      "execution_count": 16,
      "outputs": [
        {
          "output_type": "display_data",
          "data": {
            "image/png": "[encoded data removed]"
          },
          "metadata": {}
        },
        {
          "output_type": "display_data",
          "data": {
            "image/png": "[encoded data removed]"
          },
          "metadata": {}
        }
      ]
    }
  ]
}